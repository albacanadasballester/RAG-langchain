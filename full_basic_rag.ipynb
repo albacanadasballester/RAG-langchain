{
 "cells": [
  {
   "cell_type": "markdown",
   "metadata": {},
   "source": [
    "# Basic RAG\n",
    "\n",
    "This notebook is a fully setup basic RAG app including\n",
    "\n",
    "- PDF Loader\n",
    "- Chunking\n",
    "- Vector Embedding\n",
    "- Pinecone Vector Database\n",
    "- Retrieval\n",
    "- Question/Response\n",
    "\n",
    "## Pre-requisites"
   ]
  },
  {
   "cell_type": "code",
   "execution_count": null,
   "metadata": {},
   "outputs": [],
   "source": [
    "# Create virtual environment\n",
    "! python -m venv venv\n",
    "! source venv/bin/activate\n",
    "! which python #make sure that the end of your path output contains \"...venv/bin/python\""
   ]
  },
  {
   "cell_type": "code",
   "execution_count": null,
   "metadata": {},
   "outputs": [],
   "source": [
    "# Install all packages\n",
    "! pip install -r requirements.txt --quiet"
   ]
  },
  {
   "cell_type": "markdown",
   "metadata": {},
   "source": [
    "## Environment\n",
    "\n",
    "`(1) Packages`"
   ]
  },
  {
   "cell_type": "code",
   "execution_count": 1,
   "metadata": {},
   "outputs": [],
   "source": [
    "import os\n",
    "from dotenv import load_dotenv\n",
    "\n",
    "# Load all environment variables from .env file\n",
    "load_dotenv()\n",
    "\n",
    "# Access the environment variables\n",
    "langchain_tracing_v2 = os.getenv('LANGCHAIN_TRACING_V2')\n",
    "langchain_endpoint = os.getenv('LANGCHAIN_ENDPOINT')\n",
    "langchain_api_key = os.getenv('LANGCHAIN_API_KEY')\n",
    "\n",
    "## LLM\n",
    "openai_api_key = os.getenv('OPENAI_API_KEY')\n",
    "\n",
    "## Pinecone Vector Database\n",
    "pinecone_api_key = os.getenv('PINECONE_API_KEY')\n",
    "pinecone_api_host = os.getenv('PINECONE_API_HOST')\n",
    "index_name = os.getenv('PINECONE_INDEX_NAME')\n"
   ]
  },
  {
   "cell_type": "markdown",
   "metadata": {},
   "source": [
    "`(2) LangSmith`\n",
    "\n",
    "https://docs.smith.langchain.com/"
   ]
  },
  {
   "cell_type": "code",
   "execution_count": 2,
   "metadata": {},
   "outputs": [],
   "source": [
    "os.environ['LANGCHAIN_TRACING_V2'] = langchain_tracing_v2\n",
    "os.environ['LANGCHAIN_ENDPOINT'] = langchain_endpoint\n",
    "os.environ['LANGCHAIN_API_KEY'] = langchain_api_key"
   ]
  },
  {
   "cell_type": "markdown",
   "metadata": {},
   "source": [
    "`(3) API Keys`"
   ]
  },
  {
   "cell_type": "code",
   "execution_count": 3,
   "metadata": {},
   "outputs": [],
   "source": [
    "os.environ['OPENAI_API_KEY'] = openai_api_key\n",
    "openai_model = \"gpt-3.5-turbo\"\n",
    "\n",
    "#Pinecone keys\n",
    "os.environ['PINECONE_API_KEY'] = pinecone_api_key\n",
    "os.environ['PINECONE_API_HOST'] = pinecone_api_host\n",
    "os.environ['PINECONE_INDEX_NAME'] = index_name"
   ]
  },
  {
   "cell_type": "markdown",
   "metadata": {},
   "source": [
    "`(4) Pinecone Init`"
   ]
  },
  {
   "cell_type": "code",
   "execution_count": 3,
   "metadata": {},
   "outputs": [],
   "source": [
    "import chromadb\n",
    "from chromadb.config import DEFAULT_TENANT, DEFAULT_DATABASE, Settings\n",
    "'''client = chromadb.PersistentClient(\n",
    "    path=\"test\",\n",
    "    settings=Settings(),\n",
    "    tenant=DEFAULT_TENANT,\n",
    "    database=DEFAULT_DATABASE,\n",
    ")\n",
    "'''\n",
    "client = chromadb.HttpClient(\n",
    "    host=\"192.168.107.42\",\n",
    "    port=8000,\n",
    "    ssl=False,\n",
    "    headers=None\n",
    ")\n",
    "\n",
    "index = client.get_or_create_collection(\"rag1\")"
   ]
  },
  {
   "cell_type": "code",
   "execution_count": null,
   "metadata": {},
   "outputs": [
    {
     "name": "stdout",
     "output_type": "stream",
     "text": [
      "maria2\n",
      "test\n",
      "maria\n",
      "rag1\n",
      "test01\n",
      "rag\n",
      "maria_05\n"
     ]
    }
   ],
   "source": [
    "# Listar colecciones en la base de datos\n",
    "collections = client.list_collections()\n",
    "for collection in collections:\n",
    "    print(collection.name) "
   ]
  },
  {
   "cell_type": "code",
   "execution_count": 15,
   "metadata": {},
   "outputs": [
    {
     "ename": "InvalidDimensionException",
     "evalue": "Embedding dimension 384 does not match collection dimensionality 768",
     "output_type": "error",
     "traceback": [
      "\u001b[0;31m---------------------------------------------------------------------------\u001b[0m",
      "\u001b[0;31mInvalidDimensionException\u001b[0m                 Traceback (most recent call last)",
      "Cell \u001b[0;32mIn[15], line 1\u001b[0m\n\u001b[0;32m----> 1\u001b[0m results\u001b[38;5;241m=\u001b[39m\u001b[43mindex\u001b[49m\u001b[38;5;241;43m.\u001b[39;49m\u001b[43mquery\u001b[49m\u001b[43m(\u001b[49m\n\u001b[1;32m      2\u001b[0m \u001b[43m    \u001b[49m\u001b[43mquery_texts\u001b[49m\u001b[38;5;241;43m=\u001b[39;49m\u001b[43m[\u001b[49m\u001b[38;5;124;43m\"\u001b[39;49m\u001b[38;5;124;43mList active features in the configuration device mq1-n5k-2\u001b[39;49m\u001b[38;5;124;43m\"\u001b[39;49m\u001b[43m]\u001b[49m\u001b[43m,\u001b[49m\n\u001b[1;32m      3\u001b[0m \u001b[43m    \u001b[49m\u001b[43mn_results\u001b[49m\u001b[38;5;241;43m=\u001b[39;49m\u001b[38;5;241;43m3\u001b[39;49m\n\u001b[1;32m      4\u001b[0m \u001b[43m)\u001b[49m\n",
      "File \u001b[0;32m~/bRAG-langchain/.venvrag/lib/python3.11/site-packages/chromadb/api/models/Collection.py:221\u001b[0m, in \u001b[0;36mCollection.query\u001b[0;34m(self, query_embeddings, query_texts, query_images, query_uris, n_results, where, where_document, include)\u001b[0m\n\u001b[1;32m    187\u001b[0m \u001b[38;5;250m\u001b[39m\u001b[38;5;124;03m\"\"\"Get the n_results nearest neighbor embeddings for provided query_embeddings or query_texts.\u001b[39;00m\n\u001b[1;32m    188\u001b[0m \n\u001b[1;32m    189\u001b[0m \u001b[38;5;124;03mArgs:\u001b[39;00m\n\u001b[0;32m   (...)\u001b[0m\n\u001b[1;32m    207\u001b[0m \n\u001b[1;32m    208\u001b[0m \u001b[38;5;124;03m\"\"\"\u001b[39;00m\n\u001b[1;32m    210\u001b[0m query_request \u001b[38;5;241m=\u001b[39m \u001b[38;5;28mself\u001b[39m\u001b[38;5;241m.\u001b[39m_validate_and_prepare_query_request(\n\u001b[1;32m    211\u001b[0m     query_embeddings\u001b[38;5;241m=\u001b[39mquery_embeddings,\n\u001b[1;32m    212\u001b[0m     query_texts\u001b[38;5;241m=\u001b[39mquery_texts,\n\u001b[0;32m   (...)\u001b[0m\n\u001b[1;32m    218\u001b[0m     include\u001b[38;5;241m=\u001b[39minclude,\n\u001b[1;32m    219\u001b[0m )\n\u001b[0;32m--> 221\u001b[0m query_results \u001b[38;5;241m=\u001b[39m \u001b[38;5;28;43mself\u001b[39;49m\u001b[38;5;241;43m.\u001b[39;49m\u001b[43m_client\u001b[49m\u001b[38;5;241;43m.\u001b[39;49m\u001b[43m_query\u001b[49m\u001b[43m(\u001b[49m\n\u001b[1;32m    222\u001b[0m \u001b[43m    \u001b[49m\u001b[43mcollection_id\u001b[49m\u001b[38;5;241;43m=\u001b[39;49m\u001b[38;5;28;43mself\u001b[39;49m\u001b[38;5;241;43m.\u001b[39;49m\u001b[43mid\u001b[49m\u001b[43m,\u001b[49m\n\u001b[1;32m    223\u001b[0m \u001b[43m    \u001b[49m\u001b[43mquery_embeddings\u001b[49m\u001b[38;5;241;43m=\u001b[39;49m\u001b[43mquery_request\u001b[49m\u001b[43m[\u001b[49m\u001b[38;5;124;43m\"\u001b[39;49m\u001b[38;5;124;43membeddings\u001b[39;49m\u001b[38;5;124;43m\"\u001b[39;49m\u001b[43m]\u001b[49m\u001b[43m,\u001b[49m\n\u001b[1;32m    224\u001b[0m \u001b[43m    \u001b[49m\u001b[43mn_results\u001b[49m\u001b[38;5;241;43m=\u001b[39;49m\u001b[43mquery_request\u001b[49m\u001b[43m[\u001b[49m\u001b[38;5;124;43m\"\u001b[39;49m\u001b[38;5;124;43mn_results\u001b[39;49m\u001b[38;5;124;43m\"\u001b[39;49m\u001b[43m]\u001b[49m\u001b[43m,\u001b[49m\n\u001b[1;32m    225\u001b[0m \u001b[43m    \u001b[49m\u001b[43mwhere\u001b[49m\u001b[38;5;241;43m=\u001b[39;49m\u001b[43mquery_request\u001b[49m\u001b[43m[\u001b[49m\u001b[38;5;124;43m\"\u001b[39;49m\u001b[38;5;124;43mwhere\u001b[39;49m\u001b[38;5;124;43m\"\u001b[39;49m\u001b[43m]\u001b[49m\u001b[43m,\u001b[49m\n\u001b[1;32m    226\u001b[0m \u001b[43m    \u001b[49m\u001b[43mwhere_document\u001b[49m\u001b[38;5;241;43m=\u001b[39;49m\u001b[43mquery_request\u001b[49m\u001b[43m[\u001b[49m\u001b[38;5;124;43m\"\u001b[39;49m\u001b[38;5;124;43mwhere_document\u001b[39;49m\u001b[38;5;124;43m\"\u001b[39;49m\u001b[43m]\u001b[49m\u001b[43m,\u001b[49m\n\u001b[1;32m    227\u001b[0m \u001b[43m    \u001b[49m\u001b[43minclude\u001b[49m\u001b[38;5;241;43m=\u001b[39;49m\u001b[43mquery_request\u001b[49m\u001b[43m[\u001b[49m\u001b[38;5;124;43m\"\u001b[39;49m\u001b[38;5;124;43minclude\u001b[39;49m\u001b[38;5;124;43m\"\u001b[39;49m\u001b[43m]\u001b[49m\u001b[43m,\u001b[49m\n\u001b[1;32m    228\u001b[0m \u001b[43m    \u001b[49m\u001b[43mtenant\u001b[49m\u001b[38;5;241;43m=\u001b[39;49m\u001b[38;5;28;43mself\u001b[39;49m\u001b[38;5;241;43m.\u001b[39;49m\u001b[43mtenant\u001b[49m\u001b[43m,\u001b[49m\n\u001b[1;32m    229\u001b[0m \u001b[43m    \u001b[49m\u001b[43mdatabase\u001b[49m\u001b[38;5;241;43m=\u001b[39;49m\u001b[38;5;28;43mself\u001b[39;49m\u001b[38;5;241;43m.\u001b[39;49m\u001b[43mdatabase\u001b[49m\u001b[43m,\u001b[49m\n\u001b[1;32m    230\u001b[0m \u001b[43m\u001b[49m\u001b[43m)\u001b[49m\n\u001b[1;32m    232\u001b[0m \u001b[38;5;28;01mreturn\u001b[39;00m \u001b[38;5;28mself\u001b[39m\u001b[38;5;241m.\u001b[39m_transform_query_response(\n\u001b[1;32m    233\u001b[0m     response\u001b[38;5;241m=\u001b[39mquery_results, include\u001b[38;5;241m=\u001b[39mquery_request[\u001b[38;5;124m\"\u001b[39m\u001b[38;5;124minclude\u001b[39m\u001b[38;5;124m\"\u001b[39m]\n\u001b[1;32m    234\u001b[0m )\n",
      "File \u001b[0;32m~/bRAG-langchain/.venvrag/lib/python3.11/site-packages/chromadb/telemetry/opentelemetry/__init__.py:150\u001b[0m, in \u001b[0;36mtrace_method.<locals>.decorator.<locals>.wrapper\u001b[0;34m(*args, **kwargs)\u001b[0m\n\u001b[1;32m    148\u001b[0m \u001b[38;5;28;01mglobal\u001b[39;00m tracer, granularity\n\u001b[1;32m    149\u001b[0m \u001b[38;5;28;01mif\u001b[39;00m trace_granularity \u001b[38;5;241m<\u001b[39m granularity:\n\u001b[0;32m--> 150\u001b[0m     \u001b[38;5;28;01mreturn\u001b[39;00m \u001b[43mf\u001b[49m\u001b[43m(\u001b[49m\u001b[38;5;241;43m*\u001b[39;49m\u001b[43margs\u001b[49m\u001b[43m,\u001b[49m\u001b[43m \u001b[49m\u001b[38;5;241;43m*\u001b[39;49m\u001b[38;5;241;43m*\u001b[39;49m\u001b[43mkwargs\u001b[49m\u001b[43m)\u001b[49m\n\u001b[1;32m    151\u001b[0m \u001b[38;5;28;01mif\u001b[39;00m \u001b[38;5;129;01mnot\u001b[39;00m tracer:\n\u001b[1;32m    152\u001b[0m     \u001b[38;5;28;01mreturn\u001b[39;00m f(\u001b[38;5;241m*\u001b[39margs, \u001b[38;5;241m*\u001b[39m\u001b[38;5;241m*\u001b[39mkwargs)\n",
      "File \u001b[0;32m~/bRAG-langchain/.venvrag/lib/python3.11/site-packages/chromadb/api/fastapi.py:519\u001b[0m, in \u001b[0;36mFastAPI._query\u001b[0;34m(self, collection_id, query_embeddings, n_results, where, where_document, include, tenant, database)\u001b[0m\n\u001b[1;32m    505\u001b[0m \u001b[38;5;129m@trace_method\u001b[39m(\u001b[38;5;124m\"\u001b[39m\u001b[38;5;124mFastAPI._query\u001b[39m\u001b[38;5;124m\"\u001b[39m, OpenTelemetryGranularity\u001b[38;5;241m.\u001b[39mALL)\n\u001b[1;32m    506\u001b[0m \u001b[38;5;129m@override\u001b[39m\n\u001b[1;32m    507\u001b[0m \u001b[38;5;28;01mdef\u001b[39;00m \u001b[38;5;21m_query\u001b[39m(\n\u001b[0;32m   (...)\u001b[0m\n\u001b[1;32m    516\u001b[0m     database: \u001b[38;5;28mstr\u001b[39m \u001b[38;5;241m=\u001b[39m DEFAULT_DATABASE,\n\u001b[1;32m    517\u001b[0m ) \u001b[38;5;241m-\u001b[39m\u001b[38;5;241m>\u001b[39m QueryResult:\n\u001b[1;32m    518\u001b[0m \u001b[38;5;250m    \u001b[39m\u001b[38;5;124;03m\"\"\"Gets the nearest neighbors of a single embedding\"\"\"\u001b[39;00m\n\u001b[0;32m--> 519\u001b[0m     resp_json \u001b[38;5;241m=\u001b[39m \u001b[38;5;28;43mself\u001b[39;49m\u001b[38;5;241;43m.\u001b[39;49m\u001b[43m_make_request\u001b[49m\u001b[43m(\u001b[49m\n\u001b[1;32m    520\u001b[0m \u001b[43m        \u001b[49m\u001b[38;5;124;43m\"\u001b[39;49m\u001b[38;5;124;43mpost\u001b[39;49m\u001b[38;5;124;43m\"\u001b[39;49m\u001b[43m,\u001b[49m\n\u001b[1;32m    521\u001b[0m \u001b[43m        \u001b[49m\u001b[38;5;124;43mf\u001b[39;49m\u001b[38;5;124;43m\"\u001b[39;49m\u001b[38;5;124;43m/tenants/\u001b[39;49m\u001b[38;5;132;43;01m{\u001b[39;49;00m\u001b[43mtenant\u001b[49m\u001b[38;5;132;43;01m}\u001b[39;49;00m\u001b[38;5;124;43m/databases/\u001b[39;49m\u001b[38;5;132;43;01m{\u001b[39;49;00m\u001b[43mdatabase\u001b[49m\u001b[38;5;132;43;01m}\u001b[39;49;00m\u001b[38;5;124;43m/collections/\u001b[39;49m\u001b[38;5;132;43;01m{\u001b[39;49;00m\u001b[43mcollection_id\u001b[49m\u001b[38;5;132;43;01m}\u001b[39;49;00m\u001b[38;5;124;43m/query\u001b[39;49m\u001b[38;5;124;43m\"\u001b[39;49m\u001b[43m,\u001b[49m\n\u001b[1;32m    522\u001b[0m \u001b[43m        \u001b[49m\u001b[43mjson\u001b[49m\u001b[38;5;241;43m=\u001b[39;49m\u001b[43m{\u001b[49m\n\u001b[1;32m    523\u001b[0m \u001b[43m            \u001b[49m\u001b[38;5;124;43m\"\u001b[39;49m\u001b[38;5;124;43mquery_embeddings\u001b[39;49m\u001b[38;5;124;43m\"\u001b[39;49m\u001b[43m:\u001b[49m\u001b[43m \u001b[49m\u001b[43mconvert_np_embeddings_to_list\u001b[49m\u001b[43m(\u001b[49m\u001b[43mquery_embeddings\u001b[49m\u001b[43m)\u001b[49m\n\u001b[1;32m    524\u001b[0m \u001b[43m            \u001b[49m\u001b[38;5;28;43;01mif\u001b[39;49;00m\u001b[43m \u001b[49m\u001b[43mquery_embeddings\u001b[49m\u001b[43m \u001b[49m\u001b[38;5;129;43;01mis\u001b[39;49;00m\u001b[43m \u001b[49m\u001b[38;5;129;43;01mnot\u001b[39;49;00m\u001b[43m \u001b[49m\u001b[38;5;28;43;01mNone\u001b[39;49;00m\n\u001b[1;32m    525\u001b[0m \u001b[43m            \u001b[49m\u001b[38;5;28;43;01melse\u001b[39;49;00m\u001b[43m \u001b[49m\u001b[38;5;28;43;01mNone\u001b[39;49;00m\u001b[43m,\u001b[49m\n\u001b[1;32m    526\u001b[0m \u001b[43m            \u001b[49m\u001b[38;5;124;43m\"\u001b[39;49m\u001b[38;5;124;43mn_results\u001b[39;49m\u001b[38;5;124;43m\"\u001b[39;49m\u001b[43m:\u001b[49m\u001b[43m \u001b[49m\u001b[43mn_results\u001b[49m\u001b[43m,\u001b[49m\n\u001b[1;32m    527\u001b[0m \u001b[43m            \u001b[49m\u001b[38;5;124;43m\"\u001b[39;49m\u001b[38;5;124;43mwhere\u001b[39;49m\u001b[38;5;124;43m\"\u001b[39;49m\u001b[43m:\u001b[49m\u001b[43m \u001b[49m\u001b[43mwhere\u001b[49m\u001b[43m,\u001b[49m\n\u001b[1;32m    528\u001b[0m \u001b[43m            \u001b[49m\u001b[38;5;124;43m\"\u001b[39;49m\u001b[38;5;124;43mwhere_document\u001b[39;49m\u001b[38;5;124;43m\"\u001b[39;49m\u001b[43m:\u001b[49m\u001b[43m \u001b[49m\u001b[43mwhere_document\u001b[49m\u001b[43m,\u001b[49m\n\u001b[1;32m    529\u001b[0m \u001b[43m            \u001b[49m\u001b[38;5;124;43m\"\u001b[39;49m\u001b[38;5;124;43minclude\u001b[39;49m\u001b[38;5;124;43m\"\u001b[39;49m\u001b[43m:\u001b[49m\u001b[43m \u001b[49m\u001b[43minclude\u001b[49m\u001b[43m,\u001b[49m\n\u001b[1;32m    530\u001b[0m \u001b[43m        \u001b[49m\u001b[43m}\u001b[49m\u001b[43m,\u001b[49m\n\u001b[1;32m    531\u001b[0m \u001b[43m    \u001b[49m\u001b[43m)\u001b[49m\n\u001b[1;32m    533\u001b[0m     \u001b[38;5;28;01mreturn\u001b[39;00m QueryResult(\n\u001b[1;32m    534\u001b[0m         ids\u001b[38;5;241m=\u001b[39mresp_json[\u001b[38;5;124m\"\u001b[39m\u001b[38;5;124mids\u001b[39m\u001b[38;5;124m\"\u001b[39m],\n\u001b[1;32m    535\u001b[0m         distances\u001b[38;5;241m=\u001b[39mresp_json\u001b[38;5;241m.\u001b[39mget(\u001b[38;5;124m\"\u001b[39m\u001b[38;5;124mdistances\u001b[39m\u001b[38;5;124m\"\u001b[39m, \u001b[38;5;28;01mNone\u001b[39;00m),\n\u001b[0;32m   (...)\u001b[0m\n\u001b[1;32m    541\u001b[0m         included\u001b[38;5;241m=\u001b[39mresp_json\u001b[38;5;241m.\u001b[39mget(\u001b[38;5;124m\"\u001b[39m\u001b[38;5;124mincluded\u001b[39m\u001b[38;5;124m\"\u001b[39m, include),\n\u001b[1;32m    542\u001b[0m     )\n",
      "File \u001b[0;32m~/bRAG-langchain/.venvrag/lib/python3.11/site-packages/chromadb/api/fastapi.py:90\u001b[0m, in \u001b[0;36mFastAPI._make_request\u001b[0;34m(self, method, path, **kwargs)\u001b[0m\n\u001b[1;32m     87\u001b[0m url \u001b[38;5;241m=\u001b[39m \u001b[38;5;28mself\u001b[39m\u001b[38;5;241m.\u001b[39m_api_url \u001b[38;5;241m+\u001b[39m escaped_path\n\u001b[1;32m     89\u001b[0m response \u001b[38;5;241m=\u001b[39m \u001b[38;5;28mself\u001b[39m\u001b[38;5;241m.\u001b[39m_session\u001b[38;5;241m.\u001b[39mrequest(method, url, \u001b[38;5;241m*\u001b[39m\u001b[38;5;241m*\u001b[39mcast(Any, kwargs))\n\u001b[0;32m---> 90\u001b[0m \u001b[43mBaseHTTPClient\u001b[49m\u001b[38;5;241;43m.\u001b[39;49m\u001b[43m_raise_chroma_error\u001b[49m\u001b[43m(\u001b[49m\u001b[43mresponse\u001b[49m\u001b[43m)\u001b[49m\n\u001b[1;32m     91\u001b[0m \u001b[38;5;28;01mreturn\u001b[39;00m orjson\u001b[38;5;241m.\u001b[39mloads(response\u001b[38;5;241m.\u001b[39mtext)\n",
      "File \u001b[0;32m~/bRAG-langchain/.venvrag/lib/python3.11/site-packages/chromadb/api/base_http_client.py:96\u001b[0m, in \u001b[0;36mBaseHTTPClient._raise_chroma_error\u001b[0;34m(resp)\u001b[0m\n\u001b[1;32m     93\u001b[0m     \u001b[38;5;28;01mpass\u001b[39;00m\n\u001b[1;32m     95\u001b[0m \u001b[38;5;28;01mif\u001b[39;00m chroma_error:\n\u001b[0;32m---> 96\u001b[0m     \u001b[38;5;28;01mraise\u001b[39;00m chroma_error\n\u001b[1;32m     98\u001b[0m \u001b[38;5;28;01mtry\u001b[39;00m:\n\u001b[1;32m     99\u001b[0m     resp\u001b[38;5;241m.\u001b[39mraise_for_status()\n",
      "\u001b[0;31mInvalidDimensionException\u001b[0m: Embedding dimension 384 does not match collection dimensionality 768"
     ]
    }
   ],
   "source": [
    "results=index.query(\n",
    "    query_texts=[\"List active features in the configuration device mq1-n5k-2\"],\n",
    "    n_results=3\n",
    ")"
   ]
  },
  {
   "cell_type": "code",
   "execution_count": null,
   "metadata": {},
   "outputs": [
    {
     "ename": "AttributeError",
     "evalue": "'Client' object has no attribute 'get'",
     "output_type": "error",
     "traceback": [
      "\u001b[0;31m---------------------------------------------------------------------------\u001b[0m",
      "\u001b[0;31mAttributeError\u001b[0m                            Traceback (most recent call last)",
      "Cell \u001b[0;32mIn[14], line 1\u001b[0m\n\u001b[0;32m----> 1\u001b[0m result\u001b[38;5;241m=\u001b[39m\u001b[43mclient\u001b[49m\u001b[38;5;241;43m.\u001b[39;49m\u001b[43mget\u001b[49m(\n\u001b[1;32m      2\u001b[0m     ids\u001b[38;5;241m=\u001b[39m[\u001b[38;5;124m\"\u001b[39m\u001b[38;5;124mid1\u001b[39m\u001b[38;5;124m\"\u001b[39m],\n\u001b[1;32m      3\u001b[0m     include\u001b[38;5;241m=\u001b[39m[\u001b[38;5;124m\"\u001b[39m\u001b[38;5;124membeddings\u001b[39m\u001b[38;5;124m\"\u001b[39m]\n\u001b[1;32m      4\u001b[0m )\n\u001b[1;32m      6\u001b[0m \u001b[38;5;28mprint\u001b[39m(result[\u001b[38;5;124m\"\u001b[39m\u001b[38;5;124membeddings\u001b[39m\u001b[38;5;124m\"\u001b[39m][\u001b[38;5;241m0\u001b[39m][:\u001b[38;5;241m5\u001b[39m])\n\u001b[1;32m      7\u001b[0m \u001b[38;5;28mprint\u001b[39m(\u001b[38;5;28mlen\u001b[39m(result[\u001b[38;5;124m\"\u001b[39m\u001b[38;5;124membeddings\u001b[39m\u001b[38;5;124m\"\u001b[39m][\u001b[38;5;241m0\u001b[39m]))\n",
      "\u001b[0;31mAttributeError\u001b[0m: 'Client' object has no attribute 'get'"
     ]
    }
   ],
   "source": [
    "result=index.get(\n",
    "    ids=[\"id1\"],\n",
    "    include=[\"embeddings\"]\n",
    ")\n",
    "\n",
    "print(result[\"embeddings\"][0][:5])\n",
    "print(len(result[\"embeddings\"][0]))"
   ]
  },
  {
   "cell_type": "code",
   "execution_count": null,
   "metadata": {},
   "outputs": [],
   "source": [
    "'''\n",
    "from pinecone import Pinecone\n",
    "\n",
    "pc = Pinecone(api_key=os.environ['PINECONE_API_KEY'])\n",
    "index = pc.Index(os.environ['PINECONE_INDEX_NAME'])'''"
   ]
  },
  {
   "cell_type": "markdown",
   "metadata": {},
   "source": [
    "## Full RAG App (Basic)"
   ]
  },
  {
   "cell_type": "code",
   "execution_count": 4,
   "metadata": {},
   "outputs": [],
   "source": [
    "OLLAMA_HOST = '192.168.107.42'\n",
    "OLLAMA_PORT = '11434'\n",
    "OLLAMA_URL = f\"http://{OLLAMA_HOST}:{OLLAMA_PORT}\"\n",
    "\n",
    "OLLAMA_MODEL= 'llama3.1'\n",
    "OLLAMA_NUM_THREADS= 8\n",
    "OLLAMA_TEMP=0\n",
    "HUGGINGFACE_EMBEDDING = 'sentence-transformers/all-mpnet-base-v2'"
   ]
  },
  {
   "cell_type": "code",
   "execution_count": 5,
   "metadata": {},
   "outputs": [
    {
     "name": "stderr",
     "output_type": "stream",
     "text": [
      "/root/bRAG-langchain/.venvrag/lib/python3.11/site-packages/tqdm/auto.py:21: TqdmWarning: IProgress not found. Please update jupyter and ipywidgets. See https://ipywidgets.readthedocs.io/en/stable/user_install.html\n",
      "  from .autonotebook import tqdm as notebook_tqdm\n"
     ]
    }
   ],
   "source": [
    "from langchain_community.document_loaders import PyPDFLoader\n",
    "from langchain.text_splitter import RecursiveCharacterTextSplitter\n",
    "from langchain_chroma import Chroma \n",
    "from langchain_core.output_parsers import StrOutputParser\n",
    "from langchain_core.runnables import RunnablePassthrough\n",
    "#from langchain_openai import ChatOpenAI, OpenAIEmbeddings\n",
    "from langchain_huggingface import HuggingFaceEmbeddings\n",
    "\n",
    "from langchain_ollama.llms import OllamaLLM\n",
    "from langchain_ollama.chat_models import ChatOllama\n",
    "from langchain.prompts import ChatPromptTemplate\n",
    "\n",
    "#### INDEXING ####\n",
    "\n",
    "pdf_file_paths = \"test/scikit-dataset-transformations-feature-extraction.pdf\"\n",
    "loader = PyPDFLoader(pdf_file_paths)\n",
    "\n",
    "docs = loader.load()\n",
    "\n",
    "# Split\n",
    "text_splitter = RecursiveCharacterTextSplitter(chunk_size=1000, chunk_overlap=200)\n",
    "splits = text_splitter.split_documents(docs)\n",
    "\n",
    "embeddings = HuggingFaceEmbeddings(model_name=\"sentence-transformers/all-mpnet-base-v2\")\n",
    "\n",
    "# Embed\n",
    "'''vectorstore = Chroma.from_documents(client=client,\n",
    "    documents=splits, \n",
    "    embedding=embeddings,\n",
    "    collection_name='test01'\n",
    ")'''\n",
    "\n",
    "# Usar Chroma como almacén vectorial\n",
    "vectorstore = Chroma(\n",
    "    client=client,\n",
    "    collection_name=\"rag1\",\n",
    "    embedding_function=embeddings\n",
    "    \n",
    "\n",
    ")\n",
    "\n",
    "retriever = vectorstore.as_retriever()\n",
    "\n",
    "#### RETRIEVAL and GENERATION ####\n",
    "\n",
    "# Prompt\n",
    "template = \"\"\"Answer the question based only on the following context:\n",
    "{context}\n",
    "\n",
    "Question: {question}\n",
    "\"\"\"\n",
    "\n",
    "prompt = ChatPromptTemplate.from_template(template)\n",
    "\n",
    "# LLM\n",
    "llm = ChatOllama(\n",
    "  base_url=OLLAMA_URL,\n",
    "  model=OLLAMA_MODEL,\n",
    "  num_thread=OLLAMA_NUM_THREADS,\n",
    "  temperature=OLLAMA_TEMP\n",
    ")\n",
    "\n",
    "# Post-processing\n",
    "def format_docs(docs):\n",
    "    return \"\\n\\n\".join(doc.page_content for doc in docs)\n",
    "\n",
    "# Chain\n",
    "rag_chain = (\n",
    "    {\"context\": retriever | format_docs, \"question\": RunnablePassthrough()}\n",
    "    | prompt\n",
    "    | llm\n",
    "    | StrOutputParser()\n",
    ")"
   ]
  },
  {
   "cell_type": "code",
   "execution_count": null,
   "metadata": {},
   "outputs": [
    {
     "name": "stdout",
     "output_type": "stream",
     "text": [
      "Based on the provided configuration, here are the active features:\n",
      "\n",
      "1. **VPC (Virtual Port Channel)**:\n",
      "\t* `vpc 4` on interface port-channel5\n",
      "\t* `vpc 5` on interface port-channel5\n",
      "\t* `vpc 15` on interface port-channel15\n",
      "\t* `vpc 100` on interface port-channel100\n",
      "2. **FEX (Fabric Extender)**:\n",
      "\t* `fex associate 101` on interface port-channel15\n",
      "3. **VSAN (Virtual Storage Area Network)**:\n",
      "\t* `vsan database` with multiple VSANs (10) and interfaces associated with them\n",
      "4. **Port Channels**:\n",
      "\t* Port channel5 is active, with a description of \"mq1-ucshyfx-b\"\n",
      "\t* Port channel10 is active, with a description of \"mq-fas2552-a - Uplink Ethernet\"\n",
      "\t* Port channel15 is active, with a description of \"Uplink Corporativo - mq1-mgsw-1\"\n",
      "\t* Port channel100 is active, with a description of \"Uplink Corporativo - mq1-mgsw-1\"\n",
      "5. **Trunking**:\n",
      "\t* Trunking is enabled on multiple interfaces (e.g., Ethernet1/1, Ethernet1/2, port-channel5)\n",
      "6. **VFC (Virtual Fabric Channel)**:\n",
      "\t* Multiple VFCs are bound to physical interfaces (e.g., vfc7, vfc11, vfc12)\n",
      "\n",
      "Note that this list only includes features that are explicitly mentioned in the configuration as being active or enabled.\n"
     ]
    }
   ],
   "source": [
    "# Question\n",
    "print(rag_chain.invoke(\"List active features in the configuration device mq1-n5k-1\"))"
   ]
  },
  {
   "cell_type": "code",
   "execution_count": null,
   "metadata": {},
   "outputs": [
    {
     "data": {
      "text/plain": [
       "[Document(metadata={'_node_content': '{\"id_\": \"28656bc6-6d45-4606-a2f3-cfe92c355977\", \"embedding\": null, \"metadata\": {\"file_path\": \"/root/ax-gen-ia/jupyter/../poc/data/n5k-2.cfg\", \"file_name\": \"n5k-2.cfg\", \"file_size\": 35996, \"creation_date\": \"2024-11-21\", \"last_modified_date\": \"2024-11-21\"}, \"excluded_embed_metadata_keys\": [\"file_name\", \"file_type\", \"file_size\", \"creation_date\", \"last_modified_date\", \"last_accessed_date\"], \"excluded_llm_metadata_keys\": [\"file_name\", \"file_type\", \"file_size\", \"creation_date\", \"last_modified_date\", \"last_accessed_date\"], \"relationships\": {\"1\": {\"node_id\": \"6e1fe364-6ba1-42a9-a7f3-65bb13072552\", \"node_type\": \"4\", \"metadata\": {\"file_path\": \"/root/ax-gen-ia/jupyter/../poc/data/n5k-2.cfg\", \"file_name\": \"n5k-2.cfg\", \"file_size\": 35996, \"creation_date\": \"2024-11-21\", \"last_modified_date\": \"2024-11-21\"}, \"hash\": \"46fd16f827d013c0074ba9d640236c7fc3e2b764ce1d9de73414b15ca93c6a2f\", \"class_name\": \"RelatedNodeInfo\"}, \"3\": {\"node_id\": \"8015477f-6aab-4f7c-aaf6-aaa213fdbe67\", \"node_type\": \"1\", \"metadata\": {}, \"hash\": \"a3bc9d38baf6bb7aca55d2855ad234246e5f9ac0f866a6a4ac0647db348f3f9f\", \"class_name\": \"RelatedNodeInfo\"}}, \"text\": \"\", \"mimetype\": \"text/plain\", \"start_char_idx\": 0, \"end_char_idx\": 2431, \"text_template\": \"{metadata_str}\\\\n\\\\n{content}\", \"metadata_template\": \"{key}: {value}\", \"metadata_seperator\": \"\\\\n\", \"class_name\": \"TextNode\"}', '_node_type': 'TextNode', 'creation_date': '2024-11-21', 'doc_id': '6e1fe364-6ba1-42a9-a7f3-65bb13072552', 'document_id': '6e1fe364-6ba1-42a9-a7f3-65bb13072552', 'file_name': 'n5k-2.cfg', 'file_path': '/root/ax-gen-ia/jupyter/../poc/data/n5k-2.cfg', 'file_size': 35996, 'last_modified_date': '2024-11-21', 'ref_doc_id': '6e1fe364-6ba1-42a9-a7f3-65bb13072552'}, page_content='Esta es la configuracion del equipo mq1-n5k-2: \\n\\n!Command: show running-config\\n!Time: Tue Jul 23 14:37:56 2024\\n\\nversion 5.2(1)N1(8a)\\nfeature fcoe\\nlogging level feature-mgr 0\\nhostname mq1-n5k-2\\nfeature npiv\\nno feature telnet\\ncfs ipv4 distribute\\ncfs region 1\\ndevice-alias\\nexit\\ncfs eth distribute\\nfeature interface-vlan\\nfeature lacp\\nfeature vpc\\nfeature lldp\\nfeature fex\\nusername admin password 5 $1$Xf8LjbI6$/4b0P.knJ7M5bp5egj8PT0  role network-admin\\nusername acusys password 5 $1$UhZXhxfo$73U2xVgn6udeTDFp6WhXB/  role network-operator\\nusername acuntia password 5 $1$Ed3cyyOg$0MD4MkvdRvNdoeFED6oVh/  role network-admin\\nusername acuntia role priv-15\\nusername infoblox password 5 $1$PSFxvFp/$uC3Vnc9r1qdRRSsqCvczI0  role network-operator\\nusername usr_dcnm password 5 $1$rwqlByVK$WL31VWKpZodpgQyH63eS90  role san-admin\\nno password strength-check\\n\\nbanner motd \"***********************************\\n**     Acuntia Maqueta Sistemas  **\\n**            mq1-n5k-2          **\\n***********************************\"\\n\\nip domain-lookup\\nlogging event link-status default\\nip access-list 101\\npolicy-map type network-qos jumbo\\n  class type network-qos class-fcoe\\n    pause no-drop\\n    mtu 2158\\n  class type network-qos class-default\\n    mtu 9216\\nsystem qos\\n  service-policy type network-qos jumbo\\nfex 101\\n  pinning max-links 1\\n  description \"FEX 101, rack dcho\"\\nsnmp-server contact Telindus RSC (telindusrsc@telindus.es)\\nsnmp-server location  Acuntia Madrid CPD Maqueta\\nsnmp-server user admin network-admin auth md5 0xb7b69b2ca3c2344bf37b94634d382332 priv 0xb7b69b2ca3c2344bf37b94634d382332 localizedkey\\nsnmp-server user acusys network-operator auth md5 0x9fb7709b2edd8825103a5c6728cc71d7 localizedkey\\nsnmp-server user acuntia network-admin auth md5 0xf40b517ac8ad9b0da0395de76fbf524f priv 0xf40b517ac8ad9b0da0395de76fbf524f localizedkey\\nsnmp-server user acuntia priv-15\\nsnmp-server user infoblox network-operator auth md5 0x5583b630fc0d861e9addf8f744cf1b14 priv 0x5583b630fc0d861e9addf8f744cf1b14 localizedkey\\nsnmp-server user usr_dcnm san-admin auth md5 0x2d8e2635a5419b36b0b4ae8b2dbc71ae priv 0x2d8e2635a5419b36b0b4ae8b2dbc71ae localizedkey\\nsnmp-server host 10.160.85.11 traps version 2c public  udp-port 2162\\nsnmp-server host 192.168.104.37 traps version 2c public  udp-port 2162\\nsnmp-server host 10.160.85.28 traps version 2c public  udp-port 2162\\nsnmp-server host 192.168.104.240 traps version 2c public  udp-port 2162\\nsnmp-server host 192.168.104.'),\n",
       " Document(metadata={'_node_content': '{\"id_\": \"c8b97779-572a-4def-bfff-43c8c8ba5140\", \"embedding\": null, \"metadata\": {\"file_path\": \"/root/ax-gen-ia/jupyter/../poc/data/n5k-1.cfg\", \"file_name\": \"n5k-1.cfg\", \"file_size\": 38843, \"creation_date\": \"2024-11-21\", \"last_modified_date\": \"2024-11-21\"}, \"excluded_embed_metadata_keys\": [\"file_name\", \"file_type\", \"file_size\", \"creation_date\", \"last_modified_date\", \"last_accessed_date\"], \"excluded_llm_metadata_keys\": [\"file_name\", \"file_type\", \"file_size\", \"creation_date\", \"last_modified_date\", \"last_accessed_date\"], \"relationships\": {\"1\": {\"node_id\": \"cca1b9ec-5981-42d5-bfd8-ade366e9549a\", \"node_type\": \"4\", \"metadata\": {\"file_path\": \"/root/ax-gen-ia/jupyter/../poc/data/n5k-1.cfg\", \"file_name\": \"n5k-1.cfg\", \"file_size\": 38843, \"creation_date\": \"2024-11-21\", \"last_modified_date\": \"2024-11-21\"}, \"hash\": \"421427b1fd0d6c5544aa34a68ca04a2a9e4f91bd8baf94ce602334d0697ffaa4\", \"class_name\": \"RelatedNodeInfo\"}, \"3\": {\"node_id\": \"8ee86ae5-a05f-4d2e-9840-9bd59a6f8884\", \"node_type\": \"1\", \"metadata\": {}, \"hash\": \"ce436e220b98333fbe92104ec810c5b5f815b26a6aa6b60cee21275d893b9ce1\", \"class_name\": \"RelatedNodeInfo\"}}, \"text\": \"\", \"mimetype\": \"text/plain\", \"start_char_idx\": null, \"end_char_idx\": null, \"text_template\": \"{metadata_str}\\\\n\\\\n{content}\", \"metadata_template\": \"{key}: {value}\", \"metadata_seperator\": \"\\\\n\", \"class_name\": \"TextNode\"}', '_node_type': 'TextNode', 'creation_date': '2024-11-21', 'doc_id': 'cca1b9ec-5981-42d5-bfd8-ade366e9549a', 'document_id': 'cca1b9ec-5981-42d5-bfd8-ade366e9549a', 'file_name': 'n5k-1.cfg', 'file_path': '/root/ax-gen-ia/jupyter/../poc/data/n5k-1.cfg', 'file_size': 38843, 'last_modified_date': '2024-11-21', 'ref_doc_id': 'cca1b9ec-5981-42d5-bfd8-ade366e9549a'}, page_content='Esta es la configuracion del equipo mq1-n5k-1: \\n\"\\n!Command: show running-config\\n!Time: Mon Jul 15 12:10:18 2024\\n\\nversion 5.2(1)N1(8a)\\nfeature fcoe\\nlogging level feature-mgr 0\\nhostname mq1-n5k-1\\nfeature npiv\\nno feature telnet\\nfeature http-server\\ncfs ipv4 distribute\\ncfs region 1\\ndevice-alias\\nexit\\ncfs eth distribute\\nfeature interface-vlan\\nfeature lacp\\nfeature vpc\\nfeature lldp\\nfeature fex\\nrole name default-role\\n  description This is a system defined role and applies to all users.\\nusername admin password 5 $1$4MywCjXf$a95OIdBTvXreskCDV9/WM0  role network-admin\\nusername dcnm password 5 $1$6/sIxr1N$zVtaVi6nlixvwYqW5IVvT1  role network-operator\\nusername dcnm role network-admin\\nusername acusys password 5 $1$ECpOASFL$m61FPiutaU1uXhcdy6bIm0  role network-operator\\nusername acuntia password 5 $1$Vwn98lqn$ptfcqOvo7JvNgockS46V50  role network-admin\\nusername acuntia role priv-15\\nusername pruebaNCS password 5 $1$Oppoi4Nk$X4N1OXQk4s7SaX4A6sjk./ expire 2020-10-10 role network-admin\\nusername infoblox password 5 $1$xjBrQ5gm$BsWIDHr2sOMOO.PYoMsx1  role network-operator\\nusername usr_dcnm password 5 $1$UIhYKlMZ$TQtDdkRcJS9WRvphipksF0  role san-admin\\n\\nbanner motd \"***********************************\\n**     Acuntia Maqueta Sistemas  **\\n**            mq1-n5k-1          **\\n***********************************\"\\n\\nip domain-lookup\\nlogging event link-status default\\npolicy-map type network-qos jumbo\\n  class type network-qos class-fcoe\\n    pause no-drop\\n    mtu 2158\\n  class type network-qos class-default\\n    mtu 9216\\nsystem qos\\n  service-policy type network-qos jumbo\\nfex 101\\n  pinning max-links 1\\n  description \"FEX 101, rack dcho\"\\nsnmp-server contact Telindus RSC (telindusrsc@telindus.'),\n",
       " Document(metadata={'_node_content': '{\"id_\": \"6e003688-d61e-493f-b61f-198393190506\", \"embedding\": null, \"metadata\": {\"file_path\": \"/root/ax-gen-ia/jupyter/../poc/data/nx-osv9000-4.cfg\", \"file_name\": \"nx-osv9000-4.cfg\", \"file_size\": 6328, \"creation_date\": \"2024-08-13\", \"last_modified_date\": \"2024-08-13\"}, \"excluded_embed_metadata_keys\": [\"file_name\", \"file_type\", \"file_size\", \"creation_date\", \"last_modified_date\", \"last_accessed_date\"], \"excluded_llm_metadata_keys\": [\"file_name\", \"file_type\", \"file_size\", \"creation_date\", \"last_modified_date\", \"last_accessed_date\"], \"relationships\": {\"1\": {\"node_id\": \"f3f89cb3-03ad-4145-b02c-1f5640b33163\", \"node_type\": \"4\", \"metadata\": {\"file_path\": \"/root/ax-gen-ia/jupyter/../poc/data/nx-osv9000-4.cfg\", \"file_name\": \"nx-osv9000-4.cfg\", \"file_size\": 6328, \"creation_date\": \"2024-08-13\", \"last_modified_date\": \"2024-08-13\"}, \"hash\": \"6e8b3d21ffa144161c2b472fdbcc3552a8da266361306e5cf7ef2ec3ced8842b\", \"class_name\": \"RelatedNodeInfo\"}, \"3\": {\"node_id\": \"9dfc1d1d-48f0-4f76-a036-892caa22b7fd\", \"node_type\": \"1\", \"metadata\": {}, \"hash\": \"f7364bf89e675e2a6a5439f5767f29895225e8b1c789f8fefdc72f4de4eac87f\", \"class_name\": \"RelatedNodeInfo\"}}, \"text\": \"\", \"mimetype\": \"text/plain\", \"start_char_idx\": 0, \"end_char_idx\": 2852, \"text_template\": \"{metadata_str}\\\\n\\\\n{content}\", \"metadata_template\": \"{key}: {value}\", \"metadata_seperator\": \"\\\\n\", \"class_name\": \"TextNode\"}', '_node_type': 'TextNode', 'creation_date': '2024-08-13', 'doc_id': 'f3f89cb3-03ad-4145-b02c-1f5640b33163', 'document_id': 'f3f89cb3-03ad-4145-b02c-1f5640b33163', 'file_name': 'nx-osv9000-4.cfg', 'file_path': '/root/ax-gen-ia/jupyter/../poc/data/nx-osv9000-4.cfg', 'file_size': 6328, 'last_modified_date': '2024-08-13', 'ref_doc_id': 'f3f89cb3-03ad-4145-b02c-1f5640b33163'}, page_content='!Command: show running-config\\n!Time: Mon Jan 14 11:33:12 2019\\n\\nversion 7.0(3)I7(1)\\nhostname nx-osv9000-4\\nvdc nx-osv9000-4 id 1\\n  limit-resource vlan minimum 16 maximum 4094\\n  limit-resource vrf minimum 2 maximum 4096\\n  limit-resource port-channel minimum 0 maximum 511\\n  limit-resource u4route-mem minimum 96 maximum 96\\n  limit-resource u6route-mem minimum 24 maximum 24\\n  limit-resource m4route-mem minimum 58 maximum 58\\n  limit-resource m6route-mem minimum 8 maximum 8\\n\\nfeature telnet\\nnv overlay evpn\\nfeature ospf\\nfeature bgp\\nfeature pim\\nfeature fabric forwarding\\nfeature interface-vlan\\nfeature vn-segment-vlan-based\\nfeature nv overlay\\n\\nhardware access-list tcam region vpc-convergence 0\\nhardware access-list tcam region arp-ether 256\\n\\nno password strength-check\\nusername admin password 5 $1$KuOSBsvW$Cy0TSD..gEBGBPjzpDgf51  role network-admin\\nusername adminbackup password 5 !  role network-operator\\nusername cisco password 5 $1$Nk7ZkwH0$fyiRmMMfIheqE3BqvcL0C1  role network-operator\\nusername cisco role network-admin\\nusername lab password 5 $1$buoy/oqy$.EXQz8rCn72ii8qtdldj00  role network-admin\\nip domain-lookup\\nsnmp-server user lab network-admin auth md5 0x5ceb414591539ee35159fca86fdfa101 priv 0x5ceb414591539ee35159fca86fdfa101 localizedkey\\nsnmp-server user admin network-admin auth md5 0x328945d53e05e8e7207f8c20b142f0b7 priv 0x328945d53e05e8e7207f8c20b142f0b7 localizedkey\\nsnmp-server user cisco network-operator auth md5 0x55b3c64a53fb95518e75358ee75e82e9 priv 0x55b3c64a53fb95518e75358ee75e82e9 localizedkey\\nrmon event 1 log trap public description FATAL(1) owner PMON@FATAL\\nrmon event 2 log trap public description CRITICAL(2) owner PMON@CRITICAL\\nrmon event 3 log trap public description ERROR(3) owner PMON@ERROR\\nrmon event 4 log trap public description WARNING(4) owner PMON@WARNING\\nrmon event 5 log trap public description INFORMATION(5) owner PMON@INFO\\n\\nfabric forwarding anycast-gateway-mac 0000.0011.1234\\nip pim rp-address 1.2.3.4 group-list 224.0.0.0/4\\nip pim ssm range 232.0.0.0/8\\nvlan 1,20,999\\nvlan 20\\n  vn-segment 100020\\nvlan 999\\n  vn-segment 100999\\n\\nvrf context TENANT1\\n  vni 100999\\n  rd auto\\n  address-family ipv4 unicast\\n    route-target both auto\\n    route-target both auto evpn\\nvrf context management\\nhardware forwarding unicast trace\\n\\n\\ninterface Vlan1\\n  no shutdown\\n\\ninterface Vlan20\\n  no shutdown\\n  vrf member TENANT1\\n  ip address 10.20.1.254/24\\n  fabric forwarding mode anycast-gateway\\n\\ninterface Vlan999\\n  no shutdown\\n  vrf member TENANT1\\n  ip forward\\n\\ninterface nve1\\n  no shutdown\\n  host-reachability protocol bgp\\n  source-interface loopback0\\n  member vni 100020\\n    mcast-group 224.1.1.192\\n  member vni 100999 associate-vrf\\n\\ninterface Ethernet1/1\\n  description to nx-osv9000-1\\n  no switchport\\n  mtu 9216\\n  mac-address fa16.3e00.0017\\n  medium p2p\\n  ip unnumbered loopback0\\n  ip router ospf OSPF_UNDERLAY_NET area 0.0.0.'),\n",
       " Document(metadata={'_node_content': '{\"id_\": \"49cb4e0c-fe4b-4414-9c0f-da227ae5765d\", \"embedding\": null, \"metadata\": {\"file_path\": \"/root/ax-gen-ia/jupyter/../poc/data/n5k-1.cfg\", \"file_name\": \"n5k-1.cfg\", \"file_size\": 38843, \"creation_date\": \"2024-11-21\", \"last_modified_date\": \"2024-11-21\"}, \"excluded_embed_metadata_keys\": [\"file_name\", \"file_type\", \"file_size\", \"creation_date\", \"last_modified_date\", \"last_accessed_date\"], \"excluded_llm_metadata_keys\": [\"file_name\", \"file_type\", \"file_size\", \"creation_date\", \"last_modified_date\", \"last_accessed_date\"], \"relationships\": {\"1\": {\"node_id\": \"cca1b9ec-5981-42d5-bfd8-ade366e9549a\", \"node_type\": \"4\", \"metadata\": {\"file_path\": \"/root/ax-gen-ia/jupyter/../poc/data/n5k-1.cfg\", \"file_name\": \"n5k-1.cfg\", \"file_size\": 38843, \"creation_date\": \"2024-11-21\", \"last_modified_date\": \"2024-11-21\"}, \"hash\": \"421427b1fd0d6c5544aa34a68ca04a2a9e4f91bd8baf94ce602334d0697ffaa4\", \"class_name\": \"RelatedNodeInfo\"}, \"2\": {\"node_id\": \"d7580f58-269e-4934-89ad-9b11bf2f82d4\", \"node_type\": \"1\", \"metadata\": {\"file_path\": \"/root/ax-gen-ia/jupyter/../poc/data/n5k-1.cfg\", \"file_name\": \"n5k-1.cfg\", \"file_size\": 38843, \"creation_date\": \"2024-11-21\", \"last_modified_date\": \"2024-11-21\"}, \"hash\": \"9e9d1127758a7a23a2abf8b901a920e15c6f5533b28a3823765b59bfd3750c38\", \"class_name\": \"RelatedNodeInfo\"}, \"3\": {\"node_id\": \"33da5dc7-e411-4f90-89b6-17fb8d272113\", \"node_type\": \"1\", \"metadata\": {}, \"hash\": \"730f3d7447f2d1e9743ba4baeadb0de0d19369da843d2226da390adfc1721ccd\", \"class_name\": \"RelatedNodeInfo\"}}, \"text\": \"\", \"mimetype\": \"text/plain\", \"start_char_idx\": 15878, \"end_char_idx\": 17829, \"text_template\": \"{metadata_str}\\\\n\\\\n{content}\", \"metadata_template\": \"{key}: {value}\", \"metadata_seperator\": \"\\\\n\", \"class_name\": \"TextNode\"}', '_node_type': 'TextNode', 'creation_date': '2024-11-21', 'doc_id': 'cca1b9ec-5981-42d5-bfd8-ade366e9549a', 'document_id': 'cca1b9ec-5981-42d5-bfd8-ade366e9549a', 'file_name': 'n5k-1.cfg', 'file_path': '/root/ax-gen-ia/jupyter/../poc/data/n5k-1.cfg', 'file_size': 38843, 'last_modified_date': '2024-11-21', 'ref_doc_id': 'cca1b9ec-5981-42d5-bfd8-ade366e9549a'}, page_content='[mq1-esx-3-a]\\n  vsan 10 wwn 20:00:00:25:b5:01:ab:00 fcid 0x6401c7 dynamic\\n!             [mq1-esx-1-a]\\n  vsan 10 wwn 20:00:00:25:b5:01:ab:0c fcid 0x6401c8 dynamic\\n!             [mq1-esx-7-a]\\n  vsan 10 wwn 20:00:00:25:b5:01:ab:08 fcid 0x6401c9 dynamic\\n!             [mq1-esx-5-a]\\n  vsan 10 wwn 20:00:00:25:b5:01:ab:0e fcid 0x6401ca dynamic\\n!             [mq1-esx-8-a]\\n  vsan 10 wwn 20:00:00:25:b5:01:ab:02 fcid 0x6401cb dynamic\\n!             [mq1-esx-2-a]\\n  vsan 10 wwn 20:00:00:25:b5:01:ab:10 fcid 0x6401cc dynamic\\n  vsan 10 wwn 20:00:00:25:b5:01:ab:12 fcid 0x6401cd dynamic\\n  vsan 10 wwn 20:00:54:51:de:28:a7:94 fcid 0x640200 dynamic\\n  vsan 10 wwn 20:00:54:51:de:28:a7:04 fcid 0x640220 dynamic\\n\\n\\ninterface Vlan1\\n\\ninterface Vlan822\\n  no shutdown\\n  ip address 10.160.82.82/26\\n\\ninterface Vlan1050\\n  no shutdown\\n  ip address 192.168.103.131/24\\n\\ninterface Vlan1600\\n  no shutdown\\n  vrf member LAB_DANI\\n  ip address 10.10.60.5/24\\n\\ninterface port-channel1\\n  description vPC PEER LINK\\n  switchport mode trunk\\n  spanning-tree port type network\\n  speed 10000\\n  vpc peer-link\\n\\ninterface port-channel2\\n  description description L2-ext ACI\\n  switchport mode trunk\\n  switchport trunk allowed vlan 1044,1050-1051\\n  vpc 2\\n\\ninterface port-channel4\\n  description mq1-ucshyfx-a\\n  switchport mode trunk\\n  switchport trunk allowed vlan 10,20,50,80,90,96,234,500,505,822,1010,1042,1044,1046,1050-1058,1060,1070-1073,1101-1103,1105-1117,1119-1120,1123,1601-1615,18\\n00-1817,2008,2017-2020,2022-2029,3010-3013,3015,3096-3098,3100-3102,3105,3217,3508-3510,3515-3526,3610-3639,3710-3712,3720-3722,3730-3732\\n  vpc 4\\n\\ninterface port-channel5\\n  description mq1-ucshyfx-b\\n  switchport mode trunk\\n  switchport trunk allowed vlan 10,20,50,80,90,96,234,500,505,822,1010,1042,1044,1046,1050-1058,1060,1070-1073,1101-1103,1105-1117,1119-1120,1123,1601-1615,18\\n00-1817,2008,2017-2020,2022-2029,3010-3013,3015,3096-3098,3100-3102,3105,3127,3508-3510,3515-3526,3610-3639,3710-3712,3720-3722,')]"
      ]
     },
     "execution_count": 8,
     "metadata": {},
     "output_type": "execute_result"
    }
   ],
   "source": [
    "# Usar el retriever para recuperar el contexto\n",
    "retriever.get_relevant_documents(query='List active features in the configuration device mq1-n5k-2')"
   ]
  },
  {
   "cell_type": "code",
   "execution_count": 5,
   "metadata": {},
   "outputs": [
    {
     "name": "stdout",
     "output_type": "stream",
     "text": [
      "***********************************\n",
      "**     Acuntia Maqueta Sistemas  **\n",
      "**            mq1-n5k-1          **\n",
      "***********************************\n"
     ]
    }
   ],
   "source": [
    "print(rag_chain.invoke(\"Show me banner motd in mq1-n5k-1\"))"
   ]
  },
  {
   "cell_type": "code",
   "execution_count": 12,
   "metadata": {},
   "outputs": [
    {
     "name": "stdout",
     "output_type": "stream",
     "text": [
      "Sí, tengo acceso a la configuración de `mq1-n5k-2` que se proporciona en el texto. Sin embargo, es importante destacar que esta configuración parece ser específica para un entorno de laboratorio o prueba y puede no reflejar una configuración realista o segura para un entorno de producción.\n",
      "\n",
      "La configuración incluye:\n",
      "\n",
      "* Configuración de SNMP\n",
      "* Creación de interfaces de red (port-channel, vfc, fc)\n",
      "* Asociación de interfaces a VSAN 10\n",
      "* Configuración de velocidad y modo de operación para algunas interfaces\n",
      "\n",
      "Si necesitas ayuda específica con alguna parte de esta configuración o si tienes preguntas sobre cómo funciona algo en particular, estaré encantado de ayudarte.\n"
     ]
    }
   ],
   "source": [
    "print(rag_chain.invoke(\"tienes almacenada información sobre la configuracion de mq1-n5k-2?\"))"
   ]
  },
  {
   "cell_type": "code",
   "execution_count": 14,
   "metadata": {},
   "outputs": [
    {
     "name": "stdout",
     "output_type": "stream",
     "text": [
      "Lo siento, pero no puedo acceder a información específica de un dispositivo o sistema en particular. Sin embargo, puedo ayudarte a analizar y comprender la configuración que has proporcionado.\n",
      "\n",
      "La configuración parece ser para un switch Cisco Nexus 5000 (N5K) con varias interfaces y configuraciones relacionadas con VPC (Virtual Port Channel), FEX (Fabric Extender), VSAN (Virtual Storage Area Network), y otros aspectos de red. \n",
      "\n",
      "Aquí hay algunos puntos destacados que podrían ser relevantes:\n",
      "\n",
      "- **VPC Configuración**: Se configuran varios VPCs, lo que permite a los dispositivos conectarse como si estuvieran en el mismo switch físico, aunque puedan estar en diferentes switches o incluso en diferentes ubicaciones geográficas.\n",
      "\n",
      "- **FEX Configuración**: La configuración de FEX (Fabric Extender) permite conectar dispositivos externos al switch principal como si fueran interfaces del propio switch. Esto puede ser útil para extender la red y agregar más dispositivos sin necesidad de cables adicionales.\n",
      "\n",
      "- **VSAN Configuración**: Se configura un VSAN, lo que significa que se crea una zona lógica separada dentro del switch para almacenamiento. Esto ayuda a aislar el tráfico de almacenamiento y prevenir conflictos con otros tipos de tráfico en la red.\n",
      "\n",
      "- **Interfaces y Descripciones**: La configuración incluye descripciones detalladas de cada interfaz, lo que puede ayudar a identificar su función específica dentro del sistema. Algunas interfaces están configuradas para ser parte de VPCs o FEX, mientras que otras tienen descripciones relacionadas con el almacenamiento o la conectividad general.\n",
      "\n",
      "Si necesitas ayuda específica con alguna parte de esta configuración o si tienes preguntas sobre cómo funciona algo en particular, estaré encantado de ayudarte.\n"
     ]
    }
   ],
   "source": [
    "print(rag_chain.invoke(\"me puedes proporcionar el banner de la configuracion de  mq1-n5k-2?\"))"
   ]
  }
 ],
 "metadata": {
  "kernelspec": {
   "display_name": ".venvrag",
   "language": "python",
   "name": "python3"
  },
  "language_info": {
   "codemirror_mode": {
    "name": "ipython",
    "version": 3
   },
   "file_extension": ".py",
   "mimetype": "text/x-python",
   "name": "python",
   "nbconvert_exporter": "python",
   "pygments_lexer": "ipython3",
   "version": "3.11.2"
  }
 },
 "nbformat": 4,
 "nbformat_minor": 2
}
